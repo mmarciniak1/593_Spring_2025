{
  "nbformat": 4,
  "nbformat_minor": 0,
  "metadata": {
    "colab": {
      "provenance": []
    },
    "kernelspec": {
      "name": "python3",
      "display_name": "Python 3"
    },
    "language_info": {
      "name": "python"
    }
  },
  "cells": [
    {
      "cell_type": "code",
      "execution_count": 17,
      "metadata": {
        "colab": {
          "base_uri": "https://localhost:8080/",
          "height": 383
        },
        "id": "H1lIrQg6s9H8",
        "outputId": "c0e44843-2ff0-4147-ed6a-899a5a7237c6"
      },
      "outputs": [
        {
          "output_type": "stream",
          "name": "stdout",
          "text": [
            "\n",
            "Problem 1\n",
            "\n",
            "Node(data: t) -> Node(data: a) -> Node(data: c) -> Node(data: o) -> Node(data:  ) -> Node(data: c) -> Node(data: a) -> Node(data: t) -> None\n",
            "taco cat\n",
            "True\n",
            "\n",
            "Problem 2\n",
            "\n",
            "a.\n",
            "Node(data: 1) -> Node(data: 2) -> Node(data: 3) -> Node(data: 4) -> Node(data: 5) -> Node(data: 6) -> Node(data: 7) -> Node(data: 8) -> Node(data: 9) -> Node(data: 0) -> None\n",
            "1234567890\n",
            "Node(data: 2) -> Node(data: 1) -> Node(data: 4) -> Node(data: 3) -> Node(data: 6) -> Node(data: 5) -> Node(data: 8) -> Node(data: 7) -> Node(data: 0) -> Node(data: 9) -> None\n",
            "2143658709\n",
            "\n",
            "b.\n",
            "Node(data: A) -> Node(data: a) -> Node(data: B) -> Node(data: b) -> Node(data: C) -> Node(data: c) -> None\n",
            "AaBbCc\n",
            "Node(data: a) -> Node(data: A) -> Node(data: b) -> Node(data: B) -> Node(data: c) -> Node(data: C) -> None\n",
            "aAbBcC\n"
          ]
        },
        {
          "output_type": "execute_result",
          "data": {
            "text/plain": [
              "'aAbBcC'"
            ],
            "application/vnd.google.colaboratory.intrinsic+json": {
              "type": "string"
            }
          },
          "metadata": {},
          "execution_count": 17
        }
      ],
      "source": [
        "import re\n",
        "\n",
        "class Node:\n",
        "    def __init__(self, data):\n",
        "        self.data = data\n",
        "        self.next = None\n",
        "\n",
        "    def __str__(self):\n",
        "        return f\"Node(data: {self.data})\"\n",
        "\n",
        "\n",
        "class LinkedList:\n",
        "    def __init__(self):\n",
        "        self.head = None\n",
        "\n",
        "    def append(self, data):\n",
        "        new_node = Node(data)\n",
        "        if not self.head:\n",
        "            self.head = new_node\n",
        "        else:\n",
        "            current = self.head\n",
        "            while current.next:\n",
        "                current = current.next\n",
        "            current.next = new_node\n",
        "\n",
        "    def print_list(self):\n",
        "        current = self.head\n",
        "        while current:\n",
        "            print(current, end=\" -> \")\n",
        "            current = current.next\n",
        "        print(\"None\")\n",
        "\n",
        "    def create_linked_list(self, data_list):\n",
        "        for data in data_list:\n",
        "            self.append(data)\n",
        "\n",
        "\n",
        "    def swap_adjacent(self):\n",
        "        current = self.head\n",
        "\n",
        "        while current and current.next:\n",
        "            current.data, current.next.data = current.next.data, current.data\n",
        "            current = current.next.next\n",
        "\n",
        "    def concatinate_to_string(self):\n",
        "        current = self.head\n",
        "        string = \"\"\n",
        "        while current:\n",
        "            string += str(current.data)\n",
        "            current = current.next\n",
        "        print(string)\n",
        "        return string\n",
        "\n",
        "def is_palindrome(input_string):\n",
        "      cleaned_string = ''.join(re.findall(r'[a-zA-Z]', input_string)).lower()\n",
        "\n",
        "      return cleaned_string == cleaned_string[::-1]\n",
        "\n",
        "#Inputs so I do not have to instiate LinkedList node by node\n",
        "var_1 = ['t', 'a', 'c', 'o', ' ', 'c', 'a', 't']\n",
        "var_2 = [1, 2, 3, 4, 5, 6, 7, 8 ,9, 0]\n",
        "var_3 = ['A', 'a', 'B', 'b', 'C', 'c']\n",
        "\n",
        "print()\n",
        "print(\"Problem 1\")\n",
        "print()\n",
        "LinkedList1 = LinkedList()\n",
        "LinkedList1.create_linked_list(var_1)\n",
        "LinkedList1.print_list()\n",
        "print(is_palindrome(LinkedList1.concatinate_to_string()))\n",
        "\n",
        "\n",
        "print()\n",
        "print(\"Problem 2\")\n",
        "\n",
        "print()\n",
        "print('a.')\n",
        "LinkedList2 = LinkedList()\n",
        "LinkedList2.create_linked_list(var_2)\n",
        "LinkedList2.print_list()\n",
        "LinkedList2.concatinate_to_string()\n",
        "LinkedList2.swap_adjacent()\n",
        "LinkedList2.print_list()\n",
        "LinkedList2.concatinate_to_string()\n",
        "\n",
        "print()\n",
        "print('b.')\n",
        "LinkedList3 = LinkedList()\n",
        "LinkedList3.create_linked_list(var_3)\n",
        "LinkedList3.print_list()\n",
        "LinkedList3.concatinate_to_string()\n",
        "LinkedList3.swap_adjacent()\n",
        "LinkedList3.print_list()\n",
        "LinkedList3.concatinate_to_string()"
      ]
    }
  ]
}